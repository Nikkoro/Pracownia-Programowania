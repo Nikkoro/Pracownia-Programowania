{
 "cells": [
  {
   "cell_type": "markdown",
   "metadata": {},
   "source": [
    "# **Sortowanie bąbelkowe**\n",
    "Prosta metoda sortowania o złożoności czasowej $O( n^2 )$ i pamięciowej $O(1 ).$\n",
    "\n",
    "#### **Algorytm działa następująco:**\n",
    "\n",
    ">W każdym przejściu pętli wewnętrznej porównywane są ze sobą dwie kolejne wartości i w razie potrzemy są zamieniane miejscami. W jednym cyklu pętli wewnętrznej, największa liczba (tak jak bąbelki w napoju gazowanym) w zbiorze będzie się przemieszczała na ostatnią pozycję. W ten sposób otrzymujemy podzbiór częściowo już posortowany. Czynności te powtarzamy dla zbioru pominiętego o elementy już poukładane. \n",
    "\n",
    "\n",
    "#### **GIF obrazujący działanie sortowania**\n",
    "\n",
    ">![bubbleURL](https://upload.wikimedia.org/wikipedia/commons/3/37/Bubble_sort_animation.gif)\n",
    "\n",
    "#### **Program ilustrujący działanie sortowania bąbelkowego:**"
   ]
  },
  {
   "cell_type": "code",
   "execution_count": 4,
   "metadata": {},
   "outputs": [
    {
     "name": "stdout",
     "output_type": "stream",
     "text": [
      "Wprowadź liczby do posortowania, oddziel spacjami:12 312 77 14 15 15 809 299 33 1000\n",
      "[12, 14, 15, 15, 33, 77, 299, 312, 809, 1000]\n"
     ]
    }
   ],
   "source": [
    "def bubblesort(nums):\n",
    "    swapped = True\n",
    "    while swapped:\n",
    "        swapped = False\n",
    "        for i in range(len(nums) - 1):\n",
    "            if nums[i] > nums[i + 1]:\n",
    "                nums[i], nums[i + 1] = nums[i + 1], nums[i]\n",
    "                swapped = True\n",
    "                \n",
    "a = [int(x) for x in input(\"Wprowadź liczby do posortowania, oddziel spacjami:\").split()]\n",
    "bubblesort(a)\n",
    "print(a)"
   ]
  },
  {
   "cell_type": "markdown",
   "metadata": {},
   "source": [
    "# **Największy wspólny dzielnik - Algorytm Euklidesa**\n",
    "\n",
    "Algorytm Euklidesa służy do wyznaczania największego wspólnego dzielnika. Największy wspólny dzielnik dwóch liczb \n",
    "\n",
    ">## $a$  $b$\n",
    "\n",
    "to taka liczba, która dzieli te liczby i jest ona możliwie największa. Można go zastosować do skracania ułamków lub wyznaczenia najmniejszej wspólnej wielokrotności NWW.\n",
    "\n",
    "#### **Aby obliczyć NWD$(a,b)$, wykonujemy kolejno następujące kroki:**\n",
    "\n",
    ">Dzielimy z resztą liczbę $a$ przez liczbę $b$, jeżeli reszta jest równa $0$, to NWD$(a,b)=b$, jeżeli reszta jest różna od $0$, to przypisujemy liczbie $a$ wartość liczby $b$, liczbie $b$ wartość otrzymanej reszty, a następnie ponownie obliczamy $a$ *modulo* $b$.\n",
    "\n",
    "\n",
    "\n",
    "#### **Program przedstawiający działanie algorytmu Euklidesa:** \n"
   ]
  },
  {
   "cell_type": "code",
   "execution_count": 5,
   "metadata": {
    "scrolled": false
   },
   "outputs": [
    {
     "name": "stdout",
     "output_type": "stream",
     "text": [
      "Podaj pierwszą liczbę: 123\n",
      "Podaj drugą liczbę: 36\n",
      "NWD:  3\n"
     ]
    }
   ],
   "source": [
    "def GCD(a,b):\n",
    "    if b==0:\n",
    "        return a\n",
    "    else:\n",
    "        return GCD(b,a%b)\n",
    "    \n",
    "num1 = int(input(\"Podaj pierwszą liczbę: \"))\n",
    "num2 = int(input(\"Podaj drugą liczbę: \"))\n",
    "\n",
    "print(\"NWD: \", GCD(num1,num2))"
   ]
  },
  {
   "cell_type": "markdown",
   "metadata": {},
   "source": [
    "# **Średnia długość wyrazów**\n",
    "\n",
    ">Program oblicza średnią długość wyrazów , ignorując znaki interpunkcji poprzez zamiane ich na spacje, która jest ignorowana przez funkcję split, co pozwala uzyskać rzetelną średnią długość wyrazów we wprowadzonych zdaniach. Sumowane zostają znaki wyrazów oraz podzielone poprzez liczbę wyrazów. Dla przejrzystośći wynik zostaje zaokrąglony do drugiego miejsca po przecinku.\n",
    "\n",
    "\n",
    "#### **Program obliczający średnią długość wyrazów w zdaniach:** "
   ]
  },
  {
   "cell_type": "code",
   "execution_count": 7,
   "metadata": {},
   "outputs": [
    {
     "name": "stdout",
     "output_type": "stream",
     "text": [
      "Wprowadź zdanie nr 1:Hello, how are you? I'm under the water... blgpglgpglhh\n",
      "Wprowadź zdanie nr 2:Lorem ipsum dolor sit amet, consectetur adipisicing elit, sed do eiusmod tempor incididunt ut labore et dolore magna aliqua. Ut enim ad minim veniam, quis nostrud exercitation ullamco laboris nisi ut aliquip ex ea commodo consequat.\n",
      "4.56\n",
      "5.33\n"
     ]
    }
   ],
   "source": [
    "def avgwc(sentence):\n",
    "    for p in \"!?',;.\":\n",
    "        sentence = sentence.replace(p, '')\n",
    "    words = sentence.split()\n",
    "    return round(sum(len(word) for word in words)/len(words),2)\n",
    "\n",
    "\n",
    "sentence1 = input(\"Wprowadź zdanie nr 1:\")\n",
    "sentence2 = input(\"Wprowadź zdanie nr 2:\")\n",
    "\n",
    "print(avgwc(sentence1))\n",
    "print(avgwc(sentence2))"
   ]
  },
  {
   "cell_type": "markdown",
   "metadata": {},
   "source": [
    "# **Źródła z których korzystałem:**\n",
    "\n",
    ">http://www.algorytm.edu.pl\n",
    "\n",
    ">https://pl.wikipedia.org/wiki/Algorytm_Euklidesa\n"
   ]
  }
 ],
 "metadata": {
  "kernelspec": {
   "display_name": "Python 3",
   "language": "python",
   "name": "python3"
  },
  "language_info": {
   "codemirror_mode": {
    "name": "ipython",
    "version": 3
   },
   "file_extension": ".py",
   "mimetype": "text/x-python",
   "name": "python",
   "nbconvert_exporter": "python",
   "pygments_lexer": "ipython3",
   "version": "3.7.4"
  }
 },
 "nbformat": 4,
 "nbformat_minor": 4
}
